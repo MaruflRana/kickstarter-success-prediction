{
 "cells": [
  {
   "cell_type": "markdown",
   "id": "0a4d5539",
   "metadata": {},
   "source": [
    "# Kickstarter Success Prediction\n",
    "\n",
    "This notebook builds a machine learning pipeline to predict whether a Kickstarter campaign will succeed or fail.\n",
    "\n",
    "## 🎯 Objective:\n",
    "Classify Kickstarter projects as **successful** or **failed** based on historical features.\n",
    "\n",
    "## 📊 Dataset:\n",
    "**Source**: [Kickstarter Projects on Kaggle](https://www.kaggle.com/datasets/kemical/kickstarter-projects)\n",
    "\n",
    "The dataset contains 300,000+ records of past campaigns, including:\n",
    "- Launch/deadline dates\n",
    "- Goal amounts\n",
    "- Country, currency, and category\n",
    "- Final state (`successful`, `failed`, etc.)\n",
    "\n",
    "We use only the `successful` and `failed` rows for binary classification."
   ]
  },
  {
   "cell_type": "markdown",
   "id": "616b58a9",
   "metadata": {},
   "source": [
    "This notebook builds a machine learning pipeline to predict whether a Kickstarter campaign will succeed or fail."
   ]
  },
  {
   "cell_type": "markdown",
   "id": "e3f5b4e2",
   "metadata": {},
   "source": [
    "## 📦 1. Imports"
   ]
  },
  {
   "cell_type": "code",
   "execution_count": null,
   "id": "7c815cb0",
   "metadata": {},
   "outputs": [],
   "source": [
    "import numpy as np\n",
    "import pandas as pd\n",
    "import matplotlib.pyplot as plt\n",
    "import seaborn as sns"
   ]
  },
  {
   "cell_type": "code",
   "execution_count": null,
   "id": "52371957",
   "metadata": {},
   "outputs": [],
   "source": [
    "from sklearn.model_selection import train_test_split\n",
    "from sklearn.preprocessing import StandardScaler, OneHotEncoder\n",
    "from sklearn.impute import SimpleImputer\n",
    "from sklearn.compose import ColumnTransformer\n",
    "from sklearn.pipeline import Pipeline\n",
    "from sklearn.linear_model import LogisticRegression\n",
    "from sklearn.metrics import classification_report, accuracy_score, f1_score, roc_auc_score, confusion_matrix, roc_curve, auc"
   ]
  },
  {
   "cell_type": "code",
   "execution_count": null,
   "id": "8cb17330",
   "metadata": {},
   "outputs": [],
   "source": [
    "from imblearn.over_sampling import SMOTE\n",
    "from imblearn.pipeline import Pipeline as ImbPipeline"
   ]
  },
  {
   "cell_type": "code",
   "execution_count": null,
   "id": "b53ca414",
   "metadata": {},
   "outputs": [],
   "source": [
    "import warnings\n",
    "warnings.filterwarnings('ignore')"
   ]
  },
  {
   "cell_type": "markdown",
   "id": "78ef7ccb",
   "metadata": {},
   "source": [
    "## 📂 2. Load Dataset"
   ]
  },
  {
   "cell_type": "code",
   "execution_count": null,
   "id": "22dd7ffd",
   "metadata": {},
   "outputs": [],
   "source": [
    "data = pd.read_csv(r'E:\\ML_Project\\kickstarter-success-prediction\\data\\ks-projects-201801.csv')"
   ]
  },
  {
   "cell_type": "code",
   "execution_count": null,
   "id": "223ef83f",
   "metadata": {},
   "outputs": [],
   "source": [
    "data.head()"
   ]
  },
  {
   "cell_type": "markdown",
   "id": "49b48006",
   "metadata": {},
   "source": [
    "## 🔍 3. Initial Inspection"
   ]
  },
  {
   "cell_type": "code",
   "execution_count": null,
   "id": "5bc1f8ea",
   "metadata": {},
   "outputs": [],
   "source": [
    "print(data.info())"
   ]
  },
  {
   "cell_type": "code",
   "execution_count": null,
   "id": "34b3fe17",
   "metadata": {},
   "outputs": [],
   "source": [
    "plt.figure(figsize=(12, 6))\n",
    "sns.heatmap(data.isnull(), cbar=False, cmap='viridis')\n",
    "plt.title('Missing Values Heatmap')\n",
    "plt.show()"
   ]
  },
  {
   "cell_type": "markdown",
   "id": "2ed236c6",
   "metadata": {},
   "source": [
    "## 📉 4. Target Distribution"
   ]
  },
  {
   "cell_type": "code",
   "execution_count": null,
   "id": "ae1c7b9e",
   "metadata": {},
   "outputs": [],
   "source": [
    "sns.countplot(data=data[data['state'].isin(['failed', 'successful'])], x='state')\n",
    "plt.title('Target Distribution')\n",
    "plt.show()"
   ]
  },
  {
   "cell_type": "markdown",
   "id": "c801aa62",
   "metadata": {},
   "source": [
    "## 🧹 5. Data Cleaning"
   ]
  },
  {
   "cell_type": "code",
   "execution_count": null,
   "id": "51ac6135",
   "metadata": {},
   "outputs": [],
   "source": [
    "# Drop unneeded columns\n",
    "data = data.drop(['ID', 'name'], axis=1)"
   ]
  },
  {
   "cell_type": "code",
   "execution_count": null,
   "id": "5a6d235a",
   "metadata": {},
   "outputs": [],
   "source": [
    "# Filter only successful and failed\n",
    "data = data[data['state'].isin(['failed', 'successful'])].reset_index(drop=True)"
   ]
  },
  {
   "cell_type": "code",
   "execution_count": null,
   "id": "e639847b",
   "metadata": {},
   "outputs": [],
   "source": [
    "# Fill missing\n",
    "data['usd pledged'] = data['usd pledged'].fillna(data['usd pledged'].mean())"
   ]
  },
  {
   "cell_type": "code",
   "execution_count": null,
   "id": "bcac24ef",
   "metadata": {},
   "outputs": [],
   "source": [
    "# Drop leaky columns\n",
    "leakage_cols = ['pledged', 'usd pledged', 'usd_pledged_real', 'backers']\n",
    "data.drop(columns=[col for col in leakage_cols if col in data.columns], inplace=True)"
   ]
  },
  {
   "cell_type": "markdown",
   "id": "4f416704",
   "metadata": {},
   "source": [
    "## 🛠️ 6. Feature Engineering"
   ]
  },
  {
   "cell_type": "code",
   "execution_count": null,
   "id": "cb054089",
   "metadata": {},
   "outputs": [],
   "source": [
    "# Convert to datetime\n",
    "data['deadline'] = pd.to_datetime(data['deadline'], errors='coerce')\n",
    "data['launched'] = pd.to_datetime(data['launched'], errors='coerce')"
   ]
  },
  {
   "cell_type": "code",
   "execution_count": null,
   "id": "1ae6eb3b",
   "metadata": {},
   "outputs": [],
   "source": [
    "# Drop invalid dates\n",
    "data.dropna(subset=['deadline', 'launched'], inplace=True)"
   ]
  },
  {
   "cell_type": "code",
   "execution_count": null,
   "id": "aa8e9a70",
   "metadata": {},
   "outputs": [],
   "source": [
    "# New features\n",
    "data['duration_days'] = (data['deadline'] - data['launched']).dt.days\n",
    "data['launch_month'] = data['launched'].dt.month\n",
    "data['launch_dow'] = data['launched'].dt.dayofweek\n",
    "data['launch_weekend'] = data['launch_dow'].isin([5, 6]).astype(int)\n",
    "data['launch_holiday'] = data['launch_month'].isin([11, 12]).astype(int)"
   ]
  },
  {
   "cell_type": "code",
   "execution_count": null,
   "id": "abebe6c4",
   "metadata": {},
   "outputs": [],
   "source": [
    "# Log transform goal\n",
    "data['log_goal'] = np.log1p(data['goal'])\n",
    "data['goal_per_day'] = data['log_goal'] / data['duration_days'].replace(0, 1)"
   ]
  },
  {
   "cell_type": "code",
   "execution_count": null,
   "id": "2c3554e5",
   "metadata": {},
   "outputs": [],
   "source": [
    "# Drop old date columns\n",
    "data.drop(columns=['goal', 'deadline', 'launched'], inplace=True)"
   ]
  },
  {
   "cell_type": "code",
   "execution_count": null,
   "id": "995f8560",
   "metadata": {},
   "outputs": [],
   "source": [
    "# Binning and interaction\n",
    "data['duration_bins'] = pd.cut(data['duration_days'], bins=[0, 15, 30, 60, 1000], labels=False)\n",
    "data['goal_bins'] = pd.qcut(data['log_goal'], q=4, labels=False)\n",
    "data['goal_weekend_interaction'] = data['goal_per_day'] * data['launch_weekend']"
   ]
  },
  {
   "cell_type": "markdown",
   "id": "0f3a2af0",
   "metadata": {},
   "source": [
    "## 🔢 7. Prepare Data for Modeling"
   ]
  },
  {
   "cell_type": "code",
   "execution_count": null,
   "id": "57de116d",
   "metadata": {},
   "outputs": [],
   "source": [
    "# Encode target\n",
    "y = data['state'].map({'failed': 0, 'successful': 1})\n",
    "X = data.drop('state', axis=1)"
   ]
  },
  {
   "cell_type": "code",
   "execution_count": null,
   "id": "e1f182f8",
   "metadata": {},
   "outputs": [],
   "source": [
    "# Identify column types\n",
    "num_cols = X.select_dtypes(include=['float64', 'int64']).columns.tolist()\n",
    "cat_cols = X.select_dtypes(include=['object']).columns.tolist()"
   ]
  },
  {
   "cell_type": "markdown",
   "id": "60c8e2c4",
   "metadata": {},
   "source": [
    "## ⚙️ 8. Preprocessing Pipeline"
   ]
  },
  {
   "cell_type": "code",
   "execution_count": null,
   "id": "0897cc23",
   "metadata": {},
   "outputs": [],
   "source": [
    "numeric_pipeline = Pipeline([\n",
    "    ('imputer', SimpleImputer(strategy='mean')),\n",
    "    ('scaler', StandardScaler())\n",
    "])"
   ]
  },
  {
   "cell_type": "code",
   "execution_count": null,
   "id": "21e7212f",
   "metadata": {},
   "outputs": [],
   "source": [
    "categorical_pipeline = Pipeline([\n",
    "    ('encoder', OneHotEncoder(handle_unknown='ignore'))\n",
    "])"
   ]
  },
  {
   "cell_type": "code",
   "execution_count": null,
   "id": "043a99f3",
   "metadata": {},
   "outputs": [],
   "source": [
    "preprocessor = ColumnTransformer([\n",
    "    ('num', numeric_pipeline, num_cols),\n",
    "    ('cat', categorical_pipeline, cat_cols)\n",
    "])"
   ]
  },
  {
   "cell_type": "markdown",
   "id": "4aa6e25d",
   "metadata": {},
   "source": [
    "## 🤖 9. Model Pipeline with SMOTE"
   ]
  },
  {
   "cell_type": "code",
   "execution_count": null,
   "id": "a8f6d9d6",
   "metadata": {},
   "outputs": [],
   "source": [
    "model_pipeline = ImbPipeline([\n",
    "    ('preprocessor', preprocessor),\n",
    "    ('smote', SMOTE(random_state=42)),\n",
    "    ('classifier', LogisticRegression(max_iter=1000, class_weight='balanced'))\n",
    "])"
   ]
  },
  {
   "cell_type": "markdown",
   "id": "0739323d",
   "metadata": {},
   "source": [
    "## 🧪 10. Train-Test Split"
   ]
  },
  {
   "cell_type": "code",
   "execution_count": null,
   "id": "10f5afb5",
   "metadata": {},
   "outputs": [],
   "source": [
    "X_train, X_test, y_train, y_test = train_test_split(X, y, test_size=0.3, stratify=y, random_state=42)"
   ]
  },
  {
   "cell_type": "markdown",
   "id": "2ee58bc5",
   "metadata": {},
   "source": [
    "## 🏋️‍♂️ 11. Fit Model"
   ]
  },
  {
   "cell_type": "code",
   "execution_count": null,
   "id": "205183fb",
   "metadata": {},
   "outputs": [],
   "source": [
    "model_pipeline.fit(X_train, y_train)"
   ]
  },
  {
   "cell_type": "markdown",
   "id": "47903036",
   "metadata": {},
   "source": [
    "## 🔎 12. Evaluate Model"
   ]
  },
  {
   "cell_type": "code",
   "execution_count": null,
   "id": "40abc209",
   "metadata": {},
   "outputs": [],
   "source": [
    "y_pred = model_pipeline.predict(X_test)\n",
    "y_proba = model_pipeline.predict_proba(X_test)[:, 1]"
   ]
  },
  {
   "cell_type": "code",
   "execution_count": null,
   "id": "58fa7fd4",
   "metadata": {},
   "outputs": [],
   "source": [
    "print(\"Classification Report:\\n\", classification_report(y_test, y_pred))\n",
    "print(\"Accuracy:\", accuracy_score(y_test, y_pred))\n",
    "print(\"F1 Score:\", f1_score(y_test, y_pred))\n",
    "print(\"ROC AUC:\", roc_auc_score(y_test, y_proba))"
   ]
  },
  {
   "cell_type": "markdown",
   "id": "b426c856",
   "metadata": {},
   "source": [
    "## 📊 13. Confusion Matrix"
   ]
  },
  {
   "cell_type": "code",
   "execution_count": null,
   "id": "24d59310",
   "metadata": {},
   "outputs": [],
   "source": [
    "cm = confusion_matrix(y_test, y_pred)\n",
    "sns.heatmap(cm, annot=True, fmt='d', cmap='Blues')\n",
    "plt.title('Confusion Matrix')\n",
    "plt.xlabel('Predicted')\n",
    "plt.ylabel('Actual')\n",
    "plt.show()"
   ]
  },
  {
   "cell_type": "markdown",
   "id": "571c8fb3",
   "metadata": {},
   "source": [
    "## 📈 14. ROC Curve"
   ]
  },
  {
   "cell_type": "code",
   "execution_count": null,
   "id": "aed777c7",
   "metadata": {},
   "outputs": [],
   "source": [
    "fpr, tpr, _ = roc_curve(y_test, y_proba)\n",
    "roc_auc = auc(fpr, tpr)\n",
    "plt.plot(fpr, tpr, label=f'AUC = {roc_auc:.3f}')\n",
    "plt.plot([0,1],[0,1],'--', color='gray')\n",
    "plt.title('ROC Curve')\n",
    "plt.xlabel('False Positive Rate')\n",
    "plt.ylabel('True Positive Rate')\n",
    "plt.legend()\n",
    "plt.grid()\n",
    "plt.show()"
   ]
  }
 ],
 "metadata": {
  "kernelspec": {
   "display_name": ".venv",
   "language": "python",
   "name": "python3"
  },
  "language_info": {
   "codemirror_mode": {
    "name": "ipython",
    "version": 3
   },
   "file_extension": ".py",
   "mimetype": "text/x-python",
   "name": "python",
   "nbconvert_exporter": "python",
   "pygments_lexer": "ipython3",
   "version": "3.12.10"
  }
 },
 "nbformat": 4,
 "nbformat_minor": 5
}
