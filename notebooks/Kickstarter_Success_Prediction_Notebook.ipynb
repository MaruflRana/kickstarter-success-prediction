{
 "cells": [
  {
   "cell_type": "markdown",
   "id": "0a4d5539",
   "metadata": {},
   "source": [
    "# Kickstarter Success Prediction\n",
    "\n",
    "This notebook builds a machine learning pipeline to predict whether a Kickstarter campaign will succeed or fail.\n",
    "\n",
    "## 🎯 Objective:\n",
    "Classify Kickstarter projects as **successful** or **failed** based on historical features.\n",
    "\n",
    "## 📊 Dataset:\n",
    "**Source**: [Kickstarter Projects on Kaggle](https://www.kaggle.com/datasets/kemical/kickstarter-projects)\n",
    "\n",
    "The dataset contains 300,000+ records of past campaigns, including:\n",
    "- Launch/deadline dates\n",
    "- Goal amounts\n",
    "- Country, currency, and category\n",
    "- Final state (`successful`, `failed`, etc.)\n",
    "\n",
    "We use only the `successful` and `failed` rows for binary classification."
   ]
  }
 ],
 "metadata": {
  "kernelspec": {
   "display_name": ".venv",
   "language": "python",
   "name": "python3"
  },
  "language_info": {
   "codemirror_mode": {
    "name": "ipython",
    "version": 3
   },
   "file_extension": ".py",
   "mimetype": "text/x-python",
   "name": "python",
   "nbconvert_exporter": "python",
   "pygments_lexer": "ipython3",
   "version": "3.12.10"
  }
 },
 "nbformat": 4,
 "nbformat_minor": 5
}
