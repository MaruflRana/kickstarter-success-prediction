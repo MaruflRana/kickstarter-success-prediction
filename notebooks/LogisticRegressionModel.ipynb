{
 "cells": [
  {
   "cell_type": "markdown",
   "id": "2ad161d1",
   "metadata": {},
   "source": [
    "**Git Commit Message Suggestion:**\n",
    "\n",
    "```\n",
    "Add Kickstarter dataset for analysis\n",
    "```"
   ]
  }
 ],
 "metadata": {
  "language_info": {
   "name": "python"
  }
 },
 "nbformat": 4,
 "nbformat_minor": 5
}
