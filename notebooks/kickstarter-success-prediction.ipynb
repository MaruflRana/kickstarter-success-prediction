{
 "cells": [
  {
   "cell_type": "markdown",
   "id": "27692e4c",
   "metadata": {},
   "source": [
    "# Load and Inspect Kickstarter Data\n",
    "This notebook demonstrates how to load a CSV dataset using pandas and perform basic inspection."
   ]
  },
  {
   "cell_type": "code",
   "execution_count": null,
   "id": "88651a13",
   "metadata": {},
   "outputs": [],
   "source": [
    "# Import the pandas library, our main tool for working with data\n",
    "import pandas as pd\n",
    "\n",
    "# Define the filename for our dataset\n",
    "file_path = 'kickstarter.csv'\n",
    "\n",
    "# Load the CSV file into a pandas DataFrame\n",
    "# We use a try-except block to handle a potential FileNotFoundError\n",
    "try:\n",
    "    df = pd.read_csv(file_path)\n",
    "    print(\"✅ Dataset loaded successfully!\")\n",
    "except FileNotFoundError:\n",
    "    print(f\"❌ Error: The file '{file_path}' was not found.\")\n",
    "    print(\"Please make sure the dataset is in the same directory as your notebook, or provide the correct path.\")"
   ]
  },
  {
   "cell_type": "code",
   "execution_count": null,
   "id": "5f4d299a",
   "metadata": {},
   "outputs": [],
   "source": [
    "# If the dataframe was loaded, let's inspect it\n",
    "if 'df' in locals():\n",
    "    # Display the first 5 rows to get a feel for the data\n",
    "    print(\"\\n--- First 5 Rows ---\")\n",
    "    display(df.head())\n",
    "\n",
    "    # Display a concise summary of the DataFrame\n",
    "    print(\"\\n--- Dataframe Info ---\")\n",
    "    df.info()\n",
    "\n",
    "    # Display descriptive statistics for numerical columns\n",
    "    print(\"\\n--- Descriptive Statistics ---\")\n",
    "    display(df.describe())"
   ]
  }
 ],
 "metadata": {
  "kernelspec": {
   "display_name": ".venv",
   "language": "python",
   "name": "python3"
  },
  "language_info": {
   "name": "python",
   "version": "3.12.10"
  }
 },
 "nbformat": 4,
 "nbformat_minor": 5
}
